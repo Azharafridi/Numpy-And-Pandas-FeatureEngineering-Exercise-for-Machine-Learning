{
 "cells": [
  {
   "cell_type": "code",
   "execution_count": 1,
   "id": "249deb8d",
   "metadata": {},
   "outputs": [
    {
     "name": "stdout",
     "output_type": "stream",
     "text": [
      "1.23.5\n"
     ]
    }
   ],
   "source": [
    "# print the numpy version\n",
    "import numpy as np\n",
    "print(np.__version__)"
   ]
  },
  {
   "cell_type": "code",
   "execution_count": 2,
   "id": "a76f6661",
   "metadata": {},
   "outputs": [
    {
     "data": {
      "text/plain": [
       "array([0, 1, 2, 3, 4, 5, 6, 7, 8, 9])"
      ]
     },
     "execution_count": 2,
     "metadata": {},
     "output_type": "execute_result"
    }
   ],
   "source": [
    "# create a 1D array of numbers from 0 to 9\n",
    "array = np.arange(10)\n",
    "array"
   ]
  },
  {
   "cell_type": "code",
   "execution_count": 3,
   "id": "cb3892a4",
   "metadata": {},
   "outputs": [
    {
     "data": {
      "text/plain": [
       "array([[ True,  True,  True],\n",
       "       [ True,  True,  True],\n",
       "       [ True,  True,  True]])"
      ]
     },
     "execution_count": 3,
     "metadata": {},
     "output_type": "execute_result"
    }
   ],
   "source": [
    "# create 3x3 matrix written as \"True\" with boolean data type\n",
    "arr = np.full((3,3),True, dtype = bool)\n",
    "arr"
   ]
  },
  {
   "cell_type": "code",
   "execution_count": 4,
   "id": "116f5bf1",
   "metadata": {},
   "outputs": [
    {
     "data": {
      "text/plain": [
       "array([1, 3, 5, 7, 9])"
      ]
     },
     "execution_count": 4,
     "metadata": {},
     "output_type": "execute_result"
    }
   ],
   "source": [
    "# extract all the odd elements from the array\n",
    "arr = np.arange(10)\n",
    "arr[arr%2 == 1]\n"
   ]
  },
  {
   "cell_type": "code",
   "execution_count": 5,
   "id": "a6f03a92",
   "metadata": {},
   "outputs": [
    {
     "data": {
      "text/plain": [
       "array([0, 2, 4, 6, 8])"
      ]
     },
     "execution_count": 5,
     "metadata": {},
     "output_type": "execute_result"
    }
   ],
   "source": [
    "# extract all the even elements from the array\n",
    "arr = np.arange(10)\n",
    "arr[arr % 2 == 0]\n",
    "\n",
    "# we can also do it as \n",
    "# arr = np.arange(0,10,2)  mean increment by 2"
   ]
  },
  {
   "cell_type": "code",
   "execution_count": 6,
   "id": "e6f3a13e",
   "metadata": {},
   "outputs": [
    {
     "data": {
      "text/plain": [
       "array([ 0, -1,  2, -1,  4, -1,  6, -1,  8, -1])"
      ]
     },
     "execution_count": 6,
     "metadata": {},
     "output_type": "execute_result"
    }
   ],
   "source": [
    "# replace all the odd numbers in arr with -1\n",
    "arr = np.arange(10)\n",
    "arr[arr % 2 == 1] = -1\n",
    "arr\n"
   ]
  },
  {
   "cell_type": "code",
   "execution_count": 7,
   "id": "ce5c07dc",
   "metadata": {},
   "outputs": [
    {
     "name": "stdout",
     "output_type": "stream",
     "text": [
      "\n",
      " the change list is:\n",
      "\n",
      "[ 0 -1  2 -1  4 -1  6 -1  8 -1 10 -1 12 -1]\n",
      "\n",
      "the original list is :\n"
     ]
    },
    {
     "data": {
      "text/plain": [
       "array([ 0,  1,  2,  3,  4,  5,  6,  7,  8,  9, 10, 11, 12, 13])"
      ]
     },
     "execution_count": 7,
     "metadata": {},
     "output_type": "execute_result"
    }
   ],
   "source": [
    "# how to replace an item of array without changing the original item\n",
    "arr = np.arange(14)\n",
    "outarr = np.where(arr % 2 ==1, -1, arr)\n",
    "print(\"\\n the change list is:\\n\")\n",
    "print(outarr)\n",
    "print(\"\\nthe original list is :\")\n",
    "arr"
   ]
  },
  {
   "cell_type": "code",
   "execution_count": 8,
   "id": "8bbf878a",
   "metadata": {},
   "outputs": [
    {
     "data": {
      "text/plain": [
       "array([[0, 1, 2],\n",
       "       [3, 4, 5],\n",
       "       [6, 7, 8]])"
      ]
     },
     "execution_count": 8,
     "metadata": {},
     "output_type": "execute_result"
    }
   ],
   "source": [
    "# convert a 1D array to a 2D array with 3 rows\n",
    "arr =  np.arange(9)\n",
    "arr.reshape(3,-1)  # the -1 select the numbers of columns by itself\n"
   ]
  },
  {
   "cell_type": "code",
   "execution_count": 9,
   "id": "2ab53bd5",
   "metadata": {},
   "outputs": [
    {
     "data": {
      "text/plain": [
       "array([[0, 1, 2, 0, 1, 2],\n",
       "       [3, 4, 5, 3, 4, 5],\n",
       "       [6, 7, 8, 6, 7, 8]])"
      ]
     },
     "execution_count": 9,
     "metadata": {},
     "output_type": "execute_result"
    }
   ],
   "source": [
    "# how to stack arrays a and b horizontally\n",
    "a = np.arange(9).reshape(3,-1)\n",
    "b = np.arange(9).reshape(3,-1)\n",
    "np.hstack([a,b])\n",
    "\n",
    "\n"
   ]
  },
  {
   "cell_type": "code",
   "execution_count": 10,
   "id": "1534e5c5",
   "metadata": {},
   "outputs": [
    {
     "data": {
      "text/plain": [
       "array([1, 1, 1, 1, 2, 2, 2, 2, 3, 3, 3, 3, 4, 4, 4, 4, 1, 2, 3, 4, 1, 2,\n",
       "       3, 4, 1, 2, 3, 4, 1, 2, 3, 4])"
      ]
     },
     "execution_count": 10,
     "metadata": {},
     "output_type": "execute_result"
    }
   ],
   "source": [
    "# creating a kind of pattern\n",
    "array = np.array([1,2,3,4])\n",
    "np.r_[np.repeat(array,4), np.tile(array,4)]\n"
   ]
  },
  {
   "cell_type": "code",
   "execution_count": 11,
   "id": "46dd269c",
   "metadata": {},
   "outputs": [
    {
     "data": {
      "text/plain": [
       "array([3, 5])"
      ]
     },
     "execution_count": 11,
     "metadata": {},
     "output_type": "execute_result"
    }
   ],
   "source": [
    "#  get the common items between a and b\n",
    "a = np.array([1,3,4,5,8,9,0])\n",
    "b = np.array([2,6,3,10,11,5])\n",
    "np.intersect1d(a,b)"
   ]
  },
  {
   "cell_type": "code",
   "execution_count": 12,
   "id": "ee562bbb",
   "metadata": {},
   "outputs": [
    {
     "data": {
      "text/plain": [
       "array([0, 1, 4, 8, 9])"
      ]
     },
     "execution_count": 12,
     "metadata": {},
     "output_type": "execute_result"
    }
   ],
   "source": [
    "# how to remove from one array those items that exist in another\n",
    "a = np.array([1,3,4,5,8,9,0])\n",
    "b = np.array([2,6,3,10,11,5])\n",
    "\n",
    "np.setdiff1d(a,b) # this method make a new array from the difference of the two arrays\n",
    "\n"
   ]
  },
  {
   "cell_type": "code",
   "execution_count": 13,
   "id": "5d5954b8",
   "metadata": {},
   "outputs": [
    {
     "data": {
      "text/plain": [
       "(array([1, 5], dtype=int64),)"
      ]
     },
     "execution_count": 13,
     "metadata": {},
     "output_type": "execute_result"
    }
   ],
   "source": [
    "# how to get the positions where the elements of a and b match\n",
    "\n",
    "a = np.array([1,3,4,8,9,6,3])\n",
    "b = np.array([2,3,6,5,5,6,0])\n",
    "\n",
    "np.where(a == b)"
   ]
  },
  {
   "cell_type": "code",
   "execution_count": 14,
   "id": "746fff74",
   "metadata": {},
   "outputs": [
    {
     "data": {
      "text/plain": [
       "array([4, 8, 9])"
      ]
     },
     "execution_count": 14,
     "metadata": {},
     "output_type": "execute_result"
    }
   ],
   "source": [
    "# get all items between 4 and 9 from the given list\n",
    "a = np.array([1,3,4,8,9,10,22,34,38])\n",
    "index = np.where((a>=4) & (a<=9))\n",
    "a[index]\n"
   ]
  },
  {
   "cell_type": "code",
   "execution_count": 15,
   "id": "b11880d9",
   "metadata": {},
   "outputs": [
    {
     "data": {
      "text/plain": [
       "array([3, 4, 8, 9, 9, 9])"
      ]
     },
     "execution_count": 15,
     "metadata": {},
     "output_type": "execute_result"
    }
   ],
   "source": [
    "# Q. Convert the function maxx that works on two scalars, to work on two arrays.\n",
    "\n",
    "def max(x,y):\n",
    "    if x>=y:\n",
    "        return x\n",
    "    else:\n",
    "        return y\n",
    "    \n",
    "max(1,7)\n",
    "\n",
    "vectorMax = np.vectorize(max, otypes = [int])\n",
    "a = [2,4,6,9,4,4] \n",
    "b = [3,2,8,2,9,9]\n",
    "\n",
    "vectorMax(a,b)\n"
   ]
  },
  {
   "cell_type": "code",
   "execution_count": 40,
   "id": "b87caf45",
   "metadata": {},
   "outputs": [
    {
     "name": "stdout",
     "output_type": "stream",
     "text": [
      "the list before swap is :\n",
      "[[0 1 2]\n",
      " [3 4 5]\n",
      " [6 7 8]]\n",
      "\n",
      " the list after swap is:\n"
     ]
    },
    {
     "data": {
      "text/plain": [
       "array([[1, 0, 2],\n",
       "       [4, 3, 5],\n",
       "       [7, 6, 8]])"
      ]
     },
     "execution_count": 40,
     "metadata": {},
     "output_type": "execute_result"
    }
   ],
   "source": [
    "# swap tow columns with each other\n",
    "arr = np.arange(9).reshape(3,3)\n",
    "print(\"the list before swap is :\")\n",
    "print(arr)\n",
    "print(\"\\n the list after swap is:\")\n",
    "myArr = arr[:, [1,0,2]] # these numbers 0,1 and 2 show the index and and at which number each column should to be print\n",
    "myArr\n",
    "\n",
    "\n"
   ]
  },
  {
   "cell_type": "code",
   "execution_count": 53,
   "id": "d16cd90b",
   "metadata": {},
   "outputs": [
    {
     "name": "stdout",
     "output_type": "stream",
     "text": [
      "[[0 1 2]\n",
      " [3 4 5]\n",
      " [6 7 8]]\n",
      "\n",
      " after swaping the first two rows :\n",
      "\n"
     ]
    },
    {
     "data": {
      "text/plain": [
       "array([[3, 4, 5],\n",
       "       [0, 1, 2],\n",
       "       [6, 7, 8]])"
      ]
     },
     "execution_count": 53,
     "metadata": {},
     "output_type": "execute_result"
    }
   ],
   "source": [
    "# how to swap two rows in a 2d numpy array\n",
    "arr = np.arange(9).reshape(3,3)\n",
    "print(arr)\n",
    "print(\"\\n after swaping the first two rows :\\n\")\n",
    "ar = arr[[1,0,2],:]\n",
    "ar\n",
    "\n",
    "\n"
   ]
  },
  {
   "cell_type": "code",
   "execution_count": 61,
   "id": "e2677d5f",
   "metadata": {},
   "outputs": [
    {
     "name": "stdout",
     "output_type": "stream",
     "text": [
      "[[ 0  1  2]\n",
      " [ 3  4  5]\n",
      " [ 6  7  8]\n",
      " [ 9 10 11]\n",
      " [12 13 14]]\n",
      "after reversing the rows:\n"
     ]
    },
    {
     "data": {
      "text/plain": [
       "array([[12, 13, 14],\n",
       "       [ 9, 10, 11],\n",
       "       [ 6,  7,  8],\n",
       "       [ 3,  4,  5],\n",
       "       [ 0,  1,  2]])"
      ]
     },
     "execution_count": 61,
     "metadata": {},
     "output_type": "execute_result"
    }
   ],
   "source": [
    "# how to reverse rows of a 2d arrays\n",
    "\n",
    "arr = np.arange(12).reshape(4,3)\n",
    "print(arr)\n",
    "print(\"after reversing the rows:\")\n",
    "reverseArray = arr[::-1]\n",
    "reverseArray\n"
   ]
  },
  {
   "cell_type": "markdown",
   "id": "332c07b2",
   "metadata": {},
   "source": [
    "###### the above code show that first and last rows will interchange and then 2nd and 3rd rows will interchange"
   ]
  },
  {
   "cell_type": "code",
   "execution_count": 65,
   "id": "2cc9d5ec",
   "metadata": {
    "scrolled": true
   },
   "outputs": [
    {
     "name": "stdout",
     "output_type": "stream",
     "text": [
      "[[ 0  1  2  3]\n",
      " [ 4  5  6  7]\n",
      " [ 8  9 10 11]]\n",
      "\n",
      " after reversing columns the array : \n"
     ]
    },
    {
     "data": {
      "text/plain": [
       "array([[ 3,  2,  1,  0],\n",
       "       [ 7,  6,  5,  4],\n",
       "       [11, 10,  9,  8]])"
      ]
     },
     "execution_count": 65,
     "metadata": {},
     "output_type": "execute_result"
    }
   ],
   "source": [
    "# how to reverse the columns of 2d numpy arrays\n",
    "\n",
    "arr = np.arange(12).reshape(3,4)\n",
    "print(arr)\n",
    "print(\"\\n after reversing columns the array : \")\n",
    "reverseArr = arr[:,::-1]\n",
    "reverseArr"
   ]
  },
  {
   "cell_type": "markdown",
   "id": "34fca2c5",
   "metadata": {},
   "source": [
    "###### same procedure is for columns as for rows  1st column change with last and 2nd with 3rd respectively"
   ]
  },
  {
   "cell_type": "code",
   "execution_count": 78,
   "id": "af28b219",
   "metadata": {},
   "outputs": [
    {
     "name": "stdout",
     "output_type": "stream",
     "text": [
      "[[9.38233283 5.8474906  7.41357127]\n",
      " [8.1874249  7.9524034  9.28457748]\n",
      " [6.20980518 5.50069961 7.39609097]\n",
      " [8.57357397 8.70567278 6.41392892]\n",
      " [5.93629278 7.12046635 5.40293575]]\n"
     ]
    }
   ],
   "source": [
    "# Q. Create a 2D array of shape 5x3 to contain random decimal numbers between 5 and 10.\n",
    "import random\n",
    "rand_arr = np.random.uniform(5,10, size = (5,3))\n",
    "print(rand_arr)\n"
   ]
  },
  {
   "cell_type": "code",
   "execution_count": null,
   "id": "fb48f63f",
   "metadata": {},
   "outputs": [],
   "source": []
  },
  {
   "cell_type": "code",
   "execution_count": null,
   "id": "605367a5",
   "metadata": {},
   "outputs": [],
   "source": []
  },
  {
   "cell_type": "code",
   "execution_count": null,
   "id": "c35a0b93",
   "metadata": {},
   "outputs": [],
   "source": []
  }
 ],
 "metadata": {
  "kernelspec": {
   "display_name": "Python 3 (ipykernel)",
   "language": "python",
   "name": "python3"
  },
  "language_info": {
   "codemirror_mode": {
    "name": "ipython",
    "version": 3
   },
   "file_extension": ".py",
   "mimetype": "text/x-python",
   "name": "python",
   "nbconvert_exporter": "python",
   "pygments_lexer": "ipython3",
   "version": "3.10.9"
  }
 },
 "nbformat": 4,
 "nbformat_minor": 5
}
